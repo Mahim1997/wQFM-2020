{
  "nbformat": 4,
  "nbformat_minor": 0,
  "metadata": {
    "colab": {
      "name": "Generate_Batch_Quartets.ipynb",
      "provenance": [],
      "collapsed_sections": []
    },
    "kernelspec": {
      "name": "python3",
      "display_name": "Python 3"
    },
    "language_info": {
      "name": "python"
    }
  },
  "cells": [
    {
      "cell_type": "code",
      "metadata": {
        "id": "IueOf4g-ootn"
      },
      "source": [
        "import os\n",
        "import pickle\n",
        "import pandas as pd\n",
        "import sys\n",
        "import subprocess\n",
        "import re\n",
        "import time\n",
        "from collections import OrderedDict"
      ],
      "execution_count": 1,
      "outputs": []
    },
    {
      "cell_type": "code",
      "metadata": {
        "id": "De2D2Vmqp09q",
        "colab": {
          "base_uri": "https://localhost:8080/"
        },
        "outputId": "aa31d063-6894-4b08-cff1-4a27edc390bb"
      },
      "source": [
        "BATCH_SIZE = 10 # default use 10\n",
        "NUM_TOTAL_GENE_TREES = 1000 # for 101-tax it is 1000 [can be taken from file as well.]\n",
        "\n",
        "print(os.getcwd())\n",
        "\n",
        "BASE_FOLDER = \"/content/drive/MyDrive/101Tax-TRUE-GT/FOLDER_1\"\n",
        "os.chdir(BASE_FOLDER)\n",
        "print(os.getcwd())"
      ],
      "execution_count": 2,
      "outputs": [
        {
          "output_type": "stream",
          "text": [
            "/content\n",
            "/content/drive/MyDrive/101Tax-TRUE-GT/FOLDER_1\n"
          ],
          "name": "stdout"
        }
      ]
    },
    {
      "cell_type": "code",
      "metadata": {
        "id": "UxF_2rai6WT1"
      },
      "source": [
        "REPLICATE_START = 11 # inclusive\n",
        "REPLICATE_END = 20 # inclusive"
      ],
      "execution_count": 3,
      "outputs": []
    },
    {
      "cell_type": "code",
      "metadata": {
        "id": "uQSt9QQ5kNN9"
      },
      "source": [
        "BASE_FOLDER_GENE_TREE = \"/content/drive/MyDrive/101Tax-TRUE-GT/gene-trees-true\"\n",
        "BASE_FOLDER_WQRTS = \"/content/drive/MyDrive/101Tax-TRUE-GT/weighted_quartets-{}-{}\".format(REPLICATE_START, REPLICATE_END)"
      ],
      "execution_count": 4,
      "outputs": []
    },
    {
      "cell_type": "code",
      "metadata": {
        "colab": {
          "base_uri": "https://localhost:8080/"
        },
        "id": "1CHao92I6BIE",
        "outputId": "f93a45a4-1cae-48fb-a998-8b9c4fdcc984"
      },
      "source": [
        "if not os.path.exists(BASE_FOLDER_WQRTS):\n",
        "    os.mkdir(BASE_FOLDER_WQRTS)\n",
        "else:\n",
        "    print(\"{} exists\".format(BASE_FOLDER_WQRTS))"
      ],
      "execution_count": 5,
      "outputs": [
        {
          "output_type": "stream",
          "text": [
            "/content/drive/MyDrive/101Tax-TRUE-GT/weighted_quartets-11-20 exists\n"
          ],
          "name": "stdout"
        }
      ]
    },
    {
      "cell_type": "code",
      "metadata": {
        "id": "kNsEvsB2pQbh"
      },
      "source": [
        "## ./triplet soda will always be in this directory\n",
        "!chmod u+x triplets.soda2103\n",
        "# cmd = \"chmod u+x {}/triplets.soda2103\".format()"
      ],
      "execution_count": 6,
      "outputs": []
    },
    {
      "cell_type": "markdown",
      "metadata": {
        "id": "a99zwdCHoykA"
      },
      "source": [
        "## Testing batch wise qrt generation"
      ]
    },
    {
      "cell_type": "code",
      "metadata": {
        "id": "m9QdJuhyoUeG"
      },
      "source": [
        "gt_file = \"/content/drive/MyDrive/101Tax-TRUE-GT/all_gt_15Tax.tre\""
      ],
      "execution_count": 7,
      "outputs": []
    },
    {
      "cell_type": "code",
      "metadata": {
        "colab": {
          "base_uri": "https://localhost:8080/"
        },
        "id": "76oRZBhToUmC",
        "outputId": "f650f0cb-58a1-4f83-d87b-3888428f44e0"
      },
      "source": [
        "start_time = time.time()\n",
        "\n",
        "inputFile = gt_file\n",
        "outputFile = \"test.wqrts.15Tax.txt\"\n",
        "\n",
        "print(f\"inputFile = {inputFile}, outputFile = {outputFile}\")"
      ],
      "execution_count": 8,
      "outputs": [
        {
          "output_type": "stream",
          "text": [
            "inputFile = /content/drive/MyDrive/101Tax-TRUE-GT/all_gt_15Tax.tre, outputFile = test.wqrts.15Tax.txt\n"
          ],
          "name": "stdout"
        }
      ]
    },
    {
      "cell_type": "code",
      "metadata": {
        "id": "jSJIh3LUoUox",
        "cellView": "form"
      },
      "source": [
        "#@title Single File wqrt generation [commented]\n",
        "# dictionary_line = {} # empty dictionary\n",
        "\n",
        "\n",
        "# tmp_file_name = \"TEMP_FILE_PYTHON_FOR_EMBEDDED_QUARTETS\"\n",
        "\n",
        "# with open(inputFile) as fin:\n",
        "#     for line in fin: # for each gene tree\n",
        "#         line = line.replace(\"\\n\", \"\")\n",
        "#         # print(\"<\", line, \">\")\n",
        "#         with open(tmp_file_name, 'w') as f_out_temp:\n",
        "#             f_out_temp.write(line) # write that gene tree to temporary file.\n",
        "\n",
        "#         result = subprocess.run(['./triplets.soda2103', 'printQuartets', tmp_file_name], stdout=subprocess.PIPE)\n",
        "#         results_str = result.stdout.decode('utf-8')\n",
        "#         results_str = results_str.strip() # remove the empty line at the end\n",
        "#         results_str = re.sub(\".*: \", \"\", results_str) # remove alpha,beta,gamma names\n",
        "#         # starting, add (( [two open brackets]\n",
        "#         results_str = re.sub(\"\\n\", \"));\\n((\", results_str) # add initial brackets\n",
        "#         results_str = re.sub(\"^\", \"((\", results_str) # for the very first quartet\n",
        "#         results_str = re.sub(\"$\", \"));\", results_str) # for the very last quartet\n",
        "\n",
        "#         results_str = re.sub(\" \", \",\", results_str) # change white space to comma, ((11,9,|,5,6));\n",
        "#         results_str = re.sub(\",\\|,\", \"),(\", results_str) # change ,|, to ),( to form ((11,9),(5,6));\n",
        "\n",
        "#         results_array = results_str.split(\"\\n\") # split to form each quartets\n",
        "\n",
        "#         # print(results_array)\n",
        "\n",
        "#         for line_result in results_array:\n",
        "#             if line_result not in dictionary_line: # THIS line doesn't exist in dictionary\n",
        "#                 dictionary_line[line_result] = 1 # initialize to 1\n",
        "#             else: # THIS line does exist in dictionary, so increment\n",
        "#                 dictionary_line[line_result] += 1\n",
        "\n",
        "# sorted_dict = OrderedDict(sorted(dictionary_line.items()))\n",
        "\n",
        "# (pd.DataFrame.from_dict(data=sorted_dict, orient='index')\n",
        "#    .to_csv(outputFile, header=False, sep=\" \"))\n",
        "\n",
        "# end_time = time.time()\n",
        "\n",
        "# print(\"--- Time to run => %s seconds ---\" % (end_time - start_time))"
      ],
      "execution_count": 9,
      "outputs": []
    },
    {
      "cell_type": "markdown",
      "metadata": {
        "id": "LfEPi3gSpt87"
      },
      "source": [
        "## Required functions"
      ]
    },
    {
      "cell_type": "code",
      "metadata": {
        "id": "Tp1JihJx48t-"
      },
      "source": [
        "get_gtree_file_from_replicate = lambda rep: os.path.join(BASE_FOLDER_GENE_TREE, (str(rep) + \".trueGT\"))"
      ],
      "execution_count": 10,
      "outputs": []
    },
    {
      "cell_type": "code",
      "metadata": {
        "id": "kxyNlZesruhQ"
      },
      "source": [
        "get_replicate_num_from_gtree = lambda file_gtree: int(file_gtree.split(\"/\")[-1].split(\".\")[0])"
      ],
      "execution_count": 11,
      "outputs": []
    },
    {
      "cell_type": "code",
      "metadata": {
        "id": "OVzRfOr-4GRB"
      },
      "source": [
        "get_replicate_num_from_wqrt = lambda x: int(x.split(\"/\")[-1].split(\"-\")[2])\n",
        "get_start_idx_from_wqrt = lambda x: int(x.split(\"/\")[-1].split(\"-\")[4])"
      ],
      "execution_count": 12,
      "outputs": []
    },
    {
      "cell_type": "code",
      "metadata": {
        "id": "2yMI88cCp8TS"
      },
      "source": [
        "get_pickle_file_name = lambda replicate, start_idx, batch_size: \"wqrts-rep-{}-startidx-{}-batch-{}.pkl\".format(replicate, start_idx, batch_size)\n",
        "get_pickle_file_path = lambda replicate, start_idx, batch_size: os.path.join(BASE_FOLDER_WQRTS, get_pickle_file_name(replicate, start_idx, batch_size))\n",
        "\n",
        "get_temp_file_path = lambda replicate, start_idx, batch_size: \"temp-rep-{}-startidx-{}-batch-{}.txt\".format(replicate, start_idx, batch_size)"
      ],
      "execution_count": 13,
      "outputs": []
    },
    {
      "cell_type": "code",
      "metadata": {
        "id": "ABKnr73C5ULF"
      },
      "source": [
        "is_this_replicate = lambda wqrt_file, replicate: True if (\"rep-\" + str(replicate)) in wqrt_file else False"
      ],
      "execution_count": 14,
      "outputs": []
    },
    {
      "cell_type": "code",
      "metadata": {
        "id": "ZaswLjyTvONG"
      },
      "source": [
        "\"\"\"\n",
        "    Run the triplets.soda2103/printQuartets method on single line gene tree and retrieve as results array.\n",
        "\"\"\"\n",
        "def run_subprocess(file_single_gtree):\n",
        "    result = subprocess.run(['./triplets.soda2103', 'printQuartets', file_single_gtree], stdout=subprocess.PIPE)\n",
        "    results_str = result.stdout.decode('utf-8')\n",
        "    results_str = results_str.strip() # remove the empty line at the end\n",
        "    results_str = re.sub(\".*: \", \"\", results_str) # remove alpha,beta,gamma names\n",
        "    # starting, add (( [two open brackets]\n",
        "    results_str = re.sub(\"\\n\", \"));\\n((\", results_str) # add initial brackets\n",
        "    results_str = re.sub(\"^\", \"((\", results_str) # for the very first quartet\n",
        "    results_str = re.sub(\"$\", \"));\", results_str) # for the very last quartet\n",
        "\n",
        "    results_str = re.sub(\" \", \",\", results_str) # change white space to comma, ((11,9,|,5,6));\n",
        "    results_str = re.sub(\",\\|,\", \"),(\", results_str) # change ,|, to ),( to form ((11,9),(5,6));\n",
        "\n",
        "    results_array = results_str.split(\"\\n\") # split to form each quartets\n",
        "    return results_array"
      ],
      "execution_count": 15,
      "outputs": []
    },
    {
      "cell_type": "code",
      "metadata": {
        "id": "fTalFY6EoUra"
      },
      "source": [
        "def create_batch_dictionary(file_gtree, start_idx, batch_size): \n",
        "    replicate_num = get_replicate_num_from_gtree(file_gtree=file_gtree) \n",
        "    temp_file_path = get_temp_file_path(replicate_num, start_idx, batch_size)\n",
        "\n",
        "    # read all the lines in this file.\n",
        "    with open(file_gtree, encoding='utf-8', mode='r') as fin:\n",
        "        lines = [l.strip() for l in fin.readlines()]\n",
        "\n",
        "    # only keep required lines.\n",
        "    lines = lines[start_idx: start_idx+batch_size]\n",
        "\n",
        "    dictionary_line = {} # dictionary to dump as pkl file.\n",
        "\n",
        "    # per line basis.\n",
        "    for line in lines:\n",
        "        # open temp file and write one line there.\n",
        "        with open(temp_file_path, mode='w') as fout:\n",
        "            fout.write(line)\n",
        "\n",
        "        # retrieve as results array by running subprocess.\n",
        "        results_array = run_subprocess(file_single_gtree=temp_file_path)\n",
        "\n",
        "        # append to dictionary\n",
        "        for line_result in results_array:\n",
        "            if line_result not in dictionary_line: # THIS line doesn't exist in dictionary\n",
        "                dictionary_line[line_result] = 1 # initialize to 1\n",
        "            else: # THIS line does exist in dictionary, so increment\n",
        "                dictionary_line[line_result] += 1\n",
        "\n",
        "    # sort the dictionary's keys\n",
        "    sorted_dict = OrderedDict(sorted(dictionary_line.items()))\n",
        "\n",
        "    # Finally, remove temp file\n",
        "    os.remove(temp_file_path)\n",
        "\n",
        "    # Return the dictionary\n",
        "    return sorted_dict\n",
        "\n",
        "################################################################################"
      ],
      "execution_count": 16,
      "outputs": []
    },
    {
      "cell_type": "code",
      "metadata": {
        "id": "ygIGrtaToUuN"
      },
      "source": [
        "# file_gtree = \"/content/drive/MyDrive/101Tax-TRUE-GT/01.tre_15Tax\"\n",
        "# file_gtree = \"/content/drive/MyDrive/101Tax-TRUE-GT/02.txt\"\n",
        "# sorted_dict = create_batch_dictionary(file_gtree=file_gtree, start_idx=10, batch_size=BATCH_SIZE)"
      ],
      "execution_count": 17,
      "outputs": []
    },
    {
      "cell_type": "code",
      "metadata": {
        "id": "o_WKnxHbxpyk"
      },
      "source": [
        "def run_gtree(file_gtree, STARTING_INDEX, batch_size=BATCH_SIZE):\n",
        "    replicate_num = get_replicate_num_from_gtree(file_gtree=file_gtree)\n",
        "    \n",
        "    with open(file_gtree, mode='r') as fin:\n",
        "        line_count = len(fin.readlines())\n",
        "\n",
        "    for start_idx in range(STARTING_INDEX, line_count, batch_size):\n",
        "        print(\"Running for rep {} start_idx {} batch_size {}\".format(replicate_num, start_idx, batch_size))\n",
        "        # retrieve the sorted dictionary\n",
        "        sorted_dict = create_batch_dictionary(file_gtree=file_gtree, start_idx=start_idx, batch_size=batch_size)\n",
        "\n",
        "        # get the required file name to save file\n",
        "        file_save = get_pickle_file_path(replicate=replicate_num, start_idx=start_idx, batch_size=batch_size)\n",
        "        print(f\"Saving to file = {file_save}\\n\")\n",
        "\n",
        "        # dump into pickle file\n",
        "        with open(file_save, mode='wb') as fout:\n",
        "            pickle.dump(sorted_dict, fout, protocol=pickle.HIGHEST_PROTOCOL)\n",
        "\n",
        "################################################################################\n",
        "# run_gtree(file_gtree=file_gtree, STARTING_INDEX=0)"
      ],
      "execution_count": 18,
      "outputs": []
    },
    {
      "cell_type": "markdown",
      "metadata": {
        "id": "mtFV012ew1vA"
      },
      "source": [
        "## Get the latest replicate and latest index-start"
      ]
    },
    {
      "cell_type": "code",
      "metadata": {
        "id": "1JWvBhQfoUzN"
      },
      "source": [
        "\"\"\"\n",
        "    Retrieve the latest replicate and start_idx\n",
        "\"\"\"\n",
        "def get_latest_file_stats(replicate_latest=None, directory=BASE_FOLDER_WQRTS):\n",
        "    files = os.listdir(directory)\n",
        "    \n",
        "    if len(files) == 0: # no files exist.\n",
        "        return REPLICATE_START, 0 # latest_rep = 1, start_idx = 0\n",
        "    \n",
        "    # Get latest replicate\n",
        "    sorted_files_replicate = sorted(files, key=lambda x: get_replicate_num_from_wqrt(x), reverse=True) # eg. wqrts-rep-1-startidx-0-batch-10.pkl\n",
        "    if replicate_latest is None:\n",
        "        replicate_latest = get_replicate_num_from_wqrt(sorted_files_replicate[0])\n",
        "    \n",
        "    # Filter wrt latest replicate\n",
        "    required_files = [f for f in sorted_files_replicate if is_this_replicate(f, replicate=replicate_latest)]\n",
        "\n",
        "    # Get latest start_idx\n",
        "    sorted_files_startIdx = sorted(required_files, key=lambda x: get_start_idx_from_wqrt(x), reverse=True)\n",
        "    start_idx_latest = get_start_idx_from_wqrt(sorted_files_startIdx[0])\n",
        "\n",
        "    print(f\"replicate_latest = {replicate_latest}, start_idx_latest = {start_idx_latest}\")\n",
        "\n",
        "    return replicate_latest, start_idx_latest\n",
        "################################################################################"
      ],
      "execution_count": 19,
      "outputs": []
    },
    {
      "cell_type": "markdown",
      "metadata": {
        "id": "IJFs0-Rj42T0"
      },
      "source": [
        "## Gather everything and run"
      ]
    },
    {
      "cell_type": "code",
      "metadata": {
        "id": "fcX6KAZswkyd"
      },
      "source": [
        "# Get latest replicate, required gene tree and start_idx_latest.\n",
        "# start_rep, start_idx = get_latest_file_stats(directory=BASE_FOLDER_WQRTS)\n",
        "# gene_tree_file = get_gtree_file_from_replicate(rep=start_rep)\n"
      ],
      "execution_count": 20,
      "outputs": []
    },
    {
      "cell_type": "code",
      "metadata": {
        "colab": {
          "base_uri": "https://localhost:8080/"
        },
        "id": "Xz_h9N89wk0m",
        "outputId": "d58e6322-6ddf-41b9-af2b-bc1a96051b90"
      },
      "source": [
        "start_rep, start_idx = get_latest_file_stats(directory=BASE_FOLDER_WQRTS)\n",
        "while start_rep <= REPLICATE_END:\n",
        "    gene_tree_file = get_gtree_file_from_replicate(rep=start_rep)\n",
        "    run_gtree(file_gtree=gene_tree_file, STARTING_INDEX=start_idx, batch_size=BATCH_SIZE)\n",
        "\n",
        "    start_idx = 0 # for next replicate, go to 0.\n",
        "    start_rep += 1 # increment number of reps."
      ],
      "execution_count": 25,
      "outputs": [
        {
          "output_type": "stream",
          "text": [
            "replicate_latest = 20, start_idx_latest = 990\n",
            "Running for rep 20 start_idx 990 batch_size 10\n",
            "Saving to file = /content/drive/MyDrive/101Tax-TRUE-GT/weighted_quartets-11-20/wqrts-rep-20-startidx-990-batch-10.pkl\n"
          ],
          "name": "stdout"
        }
      ]
    },
    {
      "cell_type": "code",
      "metadata": {
        "id": "SimNjrzwwk3R"
      },
      "source": [
        ""
      ],
      "execution_count": 21,
      "outputs": []
    },
    {
      "cell_type": "code",
      "metadata": {
        "id": "gL6e97e0wk5d"
      },
      "source": [
        ""
      ],
      "execution_count": 21,
      "outputs": []
    },
    {
      "cell_type": "code",
      "metadata": {
        "id": "2x9sSE2bwlAq"
      },
      "source": [
        ""
      ],
      "execution_count": 21,
      "outputs": []
    }
  ]
}